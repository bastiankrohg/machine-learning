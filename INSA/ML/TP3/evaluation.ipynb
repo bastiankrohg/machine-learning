{
 "cells": [
  {
   "cell_type": "markdown",
   "metadata": {},
   "source": [
    "# Lab 1 Evaluation"
   ]
  },
  {
   "cell_type": "markdown",
   "metadata": {},
   "source": [
    "Names, Surnames, and Group : (to complete by 2 students)"
   ]
  },
  {
   "cell_type": "markdown",
   "metadata": {},
   "source": [
    "**Bastian Krohg and Nicolas Siard,\n",
    "4th year AE-SE - Group 1**"
   ]
  },
  {
   "cell_type": "markdown",
   "metadata": {},
   "source": [
    "In the following, we consider the  (binarized) Compas dataset that we studied in the Lab"
   ]
  },
  {
   "cell_type": "markdown",
   "metadata": {},
   "source": [
    "Q1: A decision tree configuration is a set of parameters that one can use to build decision trees. Propose 6 configurations that are likely to provide different topologies and caracteristics"
   ]
  },
  {
   "cell_type": "code",
   "execution_count": 50,
   "metadata": {
    "ExecuteTime": {
     "end_time": "2023-01-04T16:07:56.485161Z",
     "start_time": "2023-01-04T16:07:56.479450Z"
    }
   },
   "outputs": [],
   "source": [
    "#Useful packages\n",
    "##to create trees:\n",
    "from sklearn import tree\n",
    "##to calculate means\n",
    "import numpy as np\n",
    "##to import dataset from csv format\n",
    "import csv\n",
    "from utils import load_from_csv\n",
    "##to split datasets\n",
    "from sklearn.model_selection import train_test_split\n",
    "##to use cross-validation\n",
    "from sklearn.model_selection import cross_val_score\n",
    "##to plot\n",
    "from matplotlib import pyplot as plt\n",
    "##to construct confusion matrix and display it\n",
    "from sklearn.metrics import confusion_matrix, ConfusionMatrixDisplay"
   ]
  },
  {
   "cell_type": "code",
   "execution_count": 51,
   "metadata": {
    "ExecuteTime": {
     "end_time": "2023-01-04T16:07:57.610622Z",
     "start_time": "2023-01-04T16:07:57.605231Z"
    }
   },
   "outputs": [],
   "source": [
    "#Examples\n",
    "clf_1 = tree.DecisionTreeClassifier()\n",
    "clf_2 = tree.DecisionTreeClassifier(splitter=\"random\")\n",
    "clf_3 = tree.DecisionTreeClassifier(min_samples_leaf=15)\n",
    "clf_4 = tree.DecisionTreeClassifier(max_depth=3)\n",
    "clf_5 = tree.DecisionTreeClassifier(max_depth=7, min_samples_leaf=20)\n",
    "clf_6 = tree.DecisionTreeClassifier(max_depth=15, min_samples_leaf=5, splitter='random')"
   ]
  },
  {
   "cell_type": "markdown",
   "metadata": {},
   "source": [
    "Q2: Train a decision tree for each of the previous configurations on the full dataset"
   ]
  },
  {
   "cell_type": "code",
   "execution_count": 52,
   "metadata": {
    "ExecuteTime": {
     "end_time": "2023-01-04T16:07:58.415035Z",
     "start_time": "2023-01-04T16:07:58.039719Z"
    }
   },
   "outputs": [],
   "source": [
    "#Load dataset\n",
    "train_examples, train_labels, features, prediction = load_from_csv(\"./compass.csv\")\n",
    "\n",
    "#Training the 6 trees on entire dataset\n",
    "clf_1 = clf_1.fit(train_examples, train_labels)\n",
    "clf_2 = clf_2.fit(train_examples, train_labels)\n",
    "clf_3 = clf_3.fit(train_examples, train_labels)\n",
    "clf_4 = clf_4.fit(train_examples, train_labels)\n",
    "clf_5 = clf_5.fit(train_examples, train_labels)\n",
    "clf_6 = clf_6.fit(train_examples, train_labels)"
   ]
  },
  {
   "cell_type": "markdown",
   "metadata": {},
   "source": [
    "Q3: Propose an evaluation in terms of training and testing accuracies using $5$-cross validation on two decision trees that have different topologies"
   ]
  },
  {
   "cell_type": "code",
   "execution_count": 53,
   "metadata": {
    "ExecuteTime": {
     "end_time": "2023-01-04T16:07:58.733928Z",
     "start_time": "2023-01-04T16:07:58.560195Z"
    }
   },
   "outputs": [
    {
     "name": "stdout",
     "output_type": "stream",
     "text": [
      "Classification tree 1\n",
      "Training Score = [0.64559773 0.63728989 0.63316218 0.66782973 0.61631678], Testing Score = 0.6578199052132702\n",
      "Classification tree 5\n",
      "Training Score = [0.6533743  0.66269281 0.64759515 0.68089002 0.65182347], Testing Score = 0.6824644549763034\n"
     ]
    }
   ],
   "source": [
    "#When using k-fold cross validation we start by splitting the dataset into two parts\n",
    "#Training set (80%) and test set (20%). We use the same split for the two topologies.\n",
    "##We need the test set to compute a score after fitting and cross-validation to be able to check \n",
    "##whether the model is only memorizing the data\n",
    "x_train, x_test, y_train, y_test = train_test_split(train_examples, train_labels, random_state=1, test_size=0.20) \n",
    "\n",
    "#We need to fit/train two of the trees again using only the training part of the data set\n",
    "clf_1 = clf_1.fit(x_train, y_train)\n",
    "clf_5 = clf_5.fit(x_train, y_train)\n",
    "\n",
    "#Get cross-validation scores with cv=5 (\"k\")\n",
    "#training scores:\n",
    "train_scores_1 = cross_val_score(clf_1, x_train, y_train, cv=5, scoring='f1_macro')\n",
    "train_scores_5 = cross_val_score(clf_5, x_train, y_train, cv=5, scoring='f1_macro')\n",
    "\n",
    "#testing scores:\n",
    "test_scores_1 = clf_1.score(x_test, y_test)\n",
    "test_scores_5 = clf_5.score(x_test, y_test)\n",
    "\n",
    "#print scores to evaluate which model is most accurate on the training set\n",
    "print(\"Classification tree 1\")\n",
    "print(f\"Training Score = {train_scores_1}, Testing Score = {test_scores_1}\")\n",
    "print(\"Classification tree 5\")\n",
    "print(f\"Training Score = {train_scores_5}, Testing Score = {test_scores_5}\")"
   ]
  },
  {
   "cell_type": "markdown",
   "metadata": {},
   "source": [
    "Q4: Propose an experimental study that shows the transition phase from underfitting to overfitting "
   ]
  },
  {
   "cell_type": "code",
   "execution_count": 55,
   "metadata": {
    "ExecuteTime": {
     "end_time": "2023-01-04T16:08:17.844190Z",
     "start_time": "2023-01-04T16:08:17.647065Z"
    }
   },
   "outputs": [
    {
     "name": "stdout",
     "output_type": "stream",
     "text": [
      "Mean train scores: [0.3476646202286332, 0.6592751480242387, 0.6410807535315994]\n",
      "Test scores: [0.5137440758293839, 0.6824644549763034, 0.6578199052132702]\n"
     ]
    }
   ],
   "source": [
    "#Create trees\n",
    "\n",
    "#Underfitted tree: \n",
    "clf_under = tree.DecisionTreeClassifier(max_depth=2, min_samples_leaf=5000, splitter='random')\n",
    "\n",
    "#Good fit tree:\n",
    "clf_good = tree.DecisionTreeClassifier(max_depth=7, min_samples_leaf=20, splitter='best')\n",
    "\n",
    "#Overfitted tree:\n",
    "clf_over = tree.DecisionTreeClassifier(max_depth=None, min_samples_leaf=1, splitter='best')\n",
    "\n",
    "#Training\n",
    "clf_under = clf_under.fit(x_train, y_train)\n",
    "clf_good = clf_good.fit(x_train, y_train)\n",
    "clf_over = clf_over.fit(x_train, y_train)\n",
    "\n",
    "#5-fold cross validation scores\n",
    "train_score_under = cross_val_score(clf_under, x_train, y_train, cv=5, scoring='f1_macro')\n",
    "train_score_good = cross_val_score(clf_good, x_train, y_train, cv=5, scoring='f1_macro')\n",
    "train_score_over = cross_val_score(clf_over, x_train, y_train, cv=5, scoring='f1_macro')\n",
    "\n",
    "train_scores_table = [train_score_under, train_score_good, train_score_over]\n",
    "mean_train_scores = [np.mean(train_score_under), np.mean(train_score_good), np.mean(train_score_over)]\n",
    "\n",
    "#Testing scores\n",
    "test_score_under = clf_under.score(x_test, y_test) \n",
    "test_score_good = clf_good.score(x_test, y_test) \n",
    "test_score_over = clf_over.score(x_test, y_test) \n",
    "\n",
    "test_scores_table = [test_score_under, test_score_good, test_score_over]\n",
    "\n",
    "#Visualize test score evolution\n",
    "print(f\"Mean train scores: {mean_train_scores}\")\n",
    "print(f\"Test scores: {test_scores_table}\")    \n"
   ]
  },
  {
   "cell_type": "markdown",
   "metadata": {},
   "source": [
    "Here we notice significant improvement from the (severely) underfitted tree over to the well fitted one, however when going from the good fit and into overfitting, we only see a small decrease in testing performance. "
   ]
  },
  {
   "cell_type": "markdown",
   "metadata": {},
   "source": [
    "Q5: Construct the confusion matrix on a particular good configuration (after explaining your choice)"
   ]
  },
  {
   "cell_type": "code",
   "execution_count": 56,
   "metadata": {
    "ExecuteTime": {
     "end_time": "2023-01-04T16:10:40.147029Z",
     "start_time": "2023-01-04T16:10:40.050038Z"
    },
    "scrolled": false
   },
   "outputs": [
    {
     "data": {
      "image/png": "[encoded data removed]",
      "text/plain": [
       "<Figure size 640x480 with 2 Axes>"
      ]
     },
     "metadata": {},
     "output_type": "display_data"
    }
   ],
   "source": [
    "#We choose to reuse the well fitted clf_good, as we noticed that its test scores are decent\n",
    "#During our lab, we tried to further improve the tree performance by testing different configurations, \n",
    "#however we were not able to create a better tree than clf_good.\n",
    "\n",
    "#Constructing the confusion matrix using the previously optimized tree configuration: clf\n",
    "y_true = y_test\n",
    "y_prediction = clf.predict(x_test)\n",
    "\n",
    "cm = confusion_matrix(y_true, y_prediction, normalize='all', labels=clf.classes_)\n",
    "\n",
    "#Displaying the confusion matrix\n",
    "disp = ConfusionMatrixDisplay(confusion_matrix=cm, display_labels=clf.classes_)\n",
    "disp.plot()\n",
    "plt.show()"
   ]
  },
  {
   "cell_type": "markdown",
   "metadata": {},
   "source": [
    "Q6: Provide an evaluation of the fairness of the model based on the False Positive Rate"
   ]
  },
  {
   "cell_type": "markdown",
   "metadata": {},
   "source": [
    "In this case the False Positive rate (True label = 0, Predicted label = 1) here represents a probability of 11% (upper right corner). This means that 11% of the AI suggestions are advising to incarcerate people who are not going to commit any crimes in the following two year period. This percentage is quite elevated, as more than 1 in 10 of the predictions are going to put people who should not be in prison behind bars. This is an ethical problem, because it has a high error rate and risks putting away the wrong people. It is also biased because of the data set, especially for ethnic groups outside caucasians and afro-american people. The use of this model therefore has to be done with caution.\n",
    "\n",
    "Moreover, considering the 20% probability of false negatives, a significant amount of the predictions will be wrongful. \n",
    "\n",
    "We therefore conclude that the model is a good helper in most cases for caucasian and afro-american convicts, but cannot be used as a decision-maker, only to help get an idea. The model is not too fair, because of the big part of innocent people it could potentially put behind bars. "
   ]
  }
 ],
 "metadata": {
  "kernelspec": {
   "display_name": "Python 3 (ipykernel)",
   "language": "python",
   "name": "python3"
  },
  "language_info": {
   "codemirror_mode": {
    "name": "ipython",
    "version": 3
   },
   "file_extension": ".py",
   "mimetype": "text/x-python",
   "name": "python",
   "nbconvert_exporter": "python",
   "pygments_lexer": "ipython3",
   "version": "3.9.12"
  }
 },
 "nbformat": 4,
 "nbformat_minor": 4
}
