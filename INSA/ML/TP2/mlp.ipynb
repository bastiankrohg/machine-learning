{
 "cells": [
  {
   "cell_type": "markdown",
   "metadata": {},
   "source": [
    "# Introduction\n",
    "\n",
    "4A AE-SE Machine Learning TP 2\n",
    "By Bastian Krohg et Nicolas Siard \n",
    "\n",
    "In this lab, we have learned to split data sets, train and tune a multi-layer perceptron. Our data sets are split into three parts: training set, test set and validation set. This allows us to train a multi-layer perceptron using different hyperparameters, and then test and validate our trained model and choice of tuning. \n",
    "\n",
    "The objective of this lab is to dive into particular kind of neural network: the *Multi-Layer Perceptron* (MLP) (slide 53 of the slides)\n",
    "\n",
    "To start, let us take the dataset from the previous lab (hydrodynamics of sailing boats) and use scikit-learn to train a MLP instead of our hand-made single perceptron.\n",
    "The code below is already complete and is meant to give you an idea of how to construct an MLP with scikit-learn. You can execute it, taking the time to understand the idea behind each cell."
   ]
  },
  {
   "cell_type": "code",
   "execution_count": 20,
   "metadata": {
    "ExecuteTime": {
     "end_time": "2022-12-29T09:37:54.096736Z",
     "start_time": "2022-12-29T09:37:54.086837Z"
    }
   },
   "outputs": [],
   "source": [
    "# Importing the dataset\n",
    "import numpy as np\n",
    "dataset = np.genfromtxt(\"yacht_hydrodynamics.data\", delimiter='')\n",
    "X = dataset[:, :-1]\n",
    "Y = dataset[:, -1]"
   ]
  },
  {
   "cell_type": "code",
   "execution_count": 21,
   "metadata": {
    "ExecuteTime": {
     "end_time": "2022-12-29T09:37:54.566858Z",
     "start_time": "2022-12-29T09:37:54.559373Z"
    }
   },
   "outputs": [],
   "source": [
    "# Preprocessing: scale input data \n",
    "from sklearn.preprocessing import StandardScaler\n",
    "sc = StandardScaler()\n",
    "X = sc.fit_transform(X)"
   ]
  },
  {
   "cell_type": "code",
   "execution_count": 22,
   "metadata": {
    "ExecuteTime": {
     "end_time": "2022-12-29T09:37:54.882490Z",
     "start_time": "2022-12-29T09:37:54.876368Z"
    }
   },
   "outputs": [],
   "source": [
    "# Split dataset into training and test set\n",
    "from sklearn.model_selection import train_test_split\n",
    "x_train, x_test, y_train, y_test = train_test_split(X, Y,random_state=1, test_size = 0.20)"
   ]
  },
  {
   "cell_type": "code",
   "execution_count": 23,
   "metadata": {
    "ExecuteTime": {
     "end_time": "2022-12-29T09:37:56.445762Z",
     "start_time": "2022-12-29T09:37:55.113878Z"
    }
   },
   "outputs": [
    {
     "data": {
      "text/html": [
       "<style>#sk-container-id-2 {color: black;background-color: white;}#sk-container-id-2 pre{padding: 0;}#sk-container-id-2 div.sk-toggleable {background-color: white;}#sk-container-id-2 label.sk-toggleable__label {cursor: pointer;display: block;width: 100%;margin-bottom: 0;padding: 0.3em;box-sizing: border-box;text-align: center;}#sk-container-id-2 label.sk-toggleable__label-arrow:before {content: \"▸\";float: left;margin-right: 0.25em;color: #696969;}#sk-container-id-2 label.sk-toggleable__label-arrow:hover:before {color: black;}#sk-container-id-2 div.sk-estimator:hover label.sk-toggleable__label-arrow:before {color: black;}#sk-container-id-2 div.sk-toggleable__content {max-height: 0;max-width: 0;overflow: hidden;text-align: left;background-color: #f0f8ff;}#sk-container-id-2 div.sk-toggleable__content pre {margin: 0.2em;color: black;border-radius: 0.25em;background-color: #f0f8ff;}#sk-container-id-2 input.sk-toggleable__control:checked~div.sk-toggleable__content {max-height: 200px;max-width: 100%;overflow: auto;}#sk-container-id-2 input.sk-toggleable__control:checked~label.sk-toggleable__label-arrow:before {content: \"▾\";}#sk-container-id-2 div.sk-estimator input.sk-toggleable__control:checked~label.sk-toggleable__label {background-color: #d4ebff;}#sk-container-id-2 div.sk-label input.sk-toggleable__control:checked~label.sk-toggleable__label {background-color: #d4ebff;}#sk-container-id-2 input.sk-hidden--visually {border: 0;clip: rect(1px 1px 1px 1px);clip: rect(1px, 1px, 1px, 1px);height: 1px;margin: -1px;overflow: hidden;padding: 0;position: absolute;width: 1px;}#sk-container-id-2 div.sk-estimator {font-family: monospace;background-color: #f0f8ff;border: 1px dotted black;border-radius: 0.25em;box-sizing: border-box;margin-bottom: 0.5em;}#sk-container-id-2 div.sk-estimator:hover {background-color: #d4ebff;}#sk-container-id-2 div.sk-parallel-item::after {content: \"\";width: 100%;border-bottom: 1px solid gray;flex-grow: 1;}#sk-container-id-2 div.sk-label:hover label.sk-toggleable__label {background-color: #d4ebff;}#sk-container-id-2 div.sk-serial::before {content: \"\";position: absolute;border-left: 1px solid gray;box-sizing: border-box;top: 0;bottom: 0;left: 50%;z-index: 0;}#sk-container-id-2 div.sk-serial {display: flex;flex-direction: column;align-items: center;background-color: white;padding-right: 0.2em;padding-left: 0.2em;position: relative;}#sk-container-id-2 div.sk-item {position: relative;z-index: 1;}#sk-container-id-2 div.sk-parallel {display: flex;align-items: stretch;justify-content: center;background-color: white;position: relative;}#sk-container-id-2 div.sk-item::before, #sk-container-id-2 div.sk-parallel-item::before {content: \"\";position: absolute;border-left: 1px solid gray;box-sizing: border-box;top: 0;bottom: 0;left: 50%;z-index: -1;}#sk-container-id-2 div.sk-parallel-item {display: flex;flex-direction: column;z-index: 1;position: relative;background-color: white;}#sk-container-id-2 div.sk-parallel-item:first-child::after {align-self: flex-end;width: 50%;}#sk-container-id-2 div.sk-parallel-item:last-child::after {align-self: flex-start;width: 50%;}#sk-container-id-2 div.sk-parallel-item:only-child::after {width: 0;}#sk-container-id-2 div.sk-dashed-wrapped {border: 1px dashed gray;margin: 0 0.4em 0.5em 0.4em;box-sizing: border-box;padding-bottom: 0.4em;background-color: white;}#sk-container-id-2 div.sk-label label {font-family: monospace;font-weight: bold;display: inline-block;line-height: 1.2em;}#sk-container-id-2 div.sk-label-container {text-align: center;}#sk-container-id-2 div.sk-container {/* jupyter's `normalize.less` sets `[hidden] { display: none; }` but bootstrap.min.css set `[hidden] { display: none !important; }` so we also need the `!important` here to be able to override the default hidden behavior on the sphinx rendered scikit-learn.org. See: https://github.com/scikit-learn/scikit-learn/issues/21755 */display: inline-block !important;position: relative;}#sk-container-id-2 div.sk-text-repr-fallback {display: none;}</style><div id=\"sk-container-id-2\" class=\"sk-top-container\"><div class=\"sk-text-repr-fallback\"><pre>MLPRegressor(max_iter=3000, random_state=1)</pre><b>In a Jupyter environment, please rerun this cell to show the HTML representation or trust the notebook. <br />On GitHub, the HTML representation is unable to render, please try loading this page with nbviewer.org.</b></div><div class=\"sk-container\" hidden><div class=\"sk-item\"><div class=\"sk-estimator sk-toggleable\"><input class=\"sk-toggleable__control sk-hidden--visually\" id=\"sk-estimator-id-2\" type=\"checkbox\" checked><label for=\"sk-estimator-id-2\" class=\"sk-toggleable__label sk-toggleable__label-arrow\">MLPRegressor</label><div class=\"sk-toggleable__content\"><pre>MLPRegressor(max_iter=3000, random_state=1)</pre></div></div></div></div></div>"
      ],
      "text/plain": [
       "MLPRegressor(max_iter=3000, random_state=1)"
      ]
     },
     "execution_count": 23,
     "metadata": {},
     "output_type": "execute_result"
    }
   ],
   "source": [
    "# Define a multi-layer perceptron (MLP) network for regression\n",
    "from sklearn.neural_network import MLPRegressor\n",
    "mlp = MLPRegressor(max_iter=3000, random_state=1) # define the model, with default params\n",
    "mlp.fit(x_train, y_train) # train the MLP"
   ]
  },
  {
   "cell_type": "code",
   "execution_count": 24,
   "metadata": {
    "ExecuteTime": {
     "end_time": "2022-12-29T09:37:56.559452Z",
     "start_time": "2022-12-29T09:37:56.450933Z"
    }
   },
   "outputs": [
    {
     "name": "stdout",
     "output_type": "stream",
     "text": [
      "Train score:  0.9983128423378791\n",
      "Test score:   0.9973658105322623\n"
     ]
    },
    {
     "data": {
      "text/plain": [
       "Text(0, 0.5, 'Loss')"
      ]
     },
     "execution_count": 24,
     "metadata": {},
     "output_type": "execute_result"
    },
    {
     "data": {
      "image/png": "[encoded data removed]",
      "text/plain": [
       "<Figure size 640x480 with 1 Axes>"
      ]
     },
     "metadata": {},
     "output_type": "display_data"
    }
   ],
   "source": [
    "# Evaluate the model\n",
    "from matplotlib import pyplot as plt\n",
    "\n",
    "print('Train score: ', mlp.score(x_train, y_train))\n",
    "print('Test score:  ', mlp.score(x_test, y_test))\n",
    "plt.plot(mlp.loss_curve_)\n",
    "plt.xlabel(\"Iterations\")\n",
    "plt.ylabel(\"Loss\")\n"
   ]
  },
  {
   "cell_type": "code",
   "execution_count": 25,
   "metadata": {
    "ExecuteTime": {
     "end_time": "2022-12-29T09:37:56.700577Z",
     "start_time": "2022-12-29T09:37:56.562854Z"
    }
   },
   "outputs": [
    {
     "data": {
      "text/plain": [
       "Text(0, 0.5, 'f(examples)')"
      ]
     },
     "execution_count": 25,
     "metadata": {},
     "output_type": "execute_result"
    },
    {
     "data": {
      "image/png": "[encoded data removed]",
      "text/plain": [
       "<Figure size 640x480 with 1 Axes>"
      ]
     },
     "metadata": {},
     "output_type": "display_data"
    }
   ],
   "source": [
    "# Plot the results\n",
    "num_samples_to_plot = 20\n",
    "plt.plot(y_test[0:num_samples_to_plot], 'ro', label='y')\n",
    "yw = mlp.predict(x_test)\n",
    "plt.plot(yw[0:num_samples_to_plot], 'bx', label='$\\hat{y}$')\n",
    "plt.legend()\n",
    "plt.xlabel(\"Examples\")\n",
    "plt.ylabel(\"f(examples)\")"
   ]
  },
  {
   "cell_type": "markdown",
   "metadata": {},
   "source": [
    "### Analyzing the network\n",
    "\n",
    "Many details of the network are currently hidden as default parameters.\n",
    "\n",
    "Using the [documentation of the MLPRegressor](https://scikit-learn.org/stable/modules/generated/sklearn.neural_network.MLPRegressor.html), answer the following questions.\n",
    "\n",
    "- What is the structure of the network?\n",
    "    - The MLPRegressor network is a neural network, by default it has one hidden layer containing 100 neurons. \n",
    "- What it is the algorithm used for training? Is there an algorithm available that we mentioned during the courses?\n",
    "    - The training algorithm which is used is Adam. This is the solver for weight optimization of the neural network. The Adam algorithm is used for large datasets (thousands of training samples or more). \n",
    "    - 'sgd' or the \"stochastic gradient descent\" is an option which is an algorithm that we talked about in class. Adam is an optimized version of this approach. \n",
    "- How does the training algorithm decide to stop the training?\n",
    "    - The algorithm stops iteration after:\n",
    "        - having finished max number of iterations\n",
    "        or \n",
    "        - convergence reached, determined by 'tol' which is by default 0.0001. This mecanism compares the current loss with tol, the tolerance for the optimization, and stops once the loss is less than tol. "
   ]
  },
  {
   "cell_type": "markdown",
   "metadata": {},
   "source": [
    "# Onto a more challenging dataset: house prices\n",
    "\n",
    "For the rest of this lab, we will use the (more challenging) [California Housing Prices dataset](https://www.kaggle.com/datasets/camnugent/california-housing-prices)."
   ]
  },
  {
   "cell_type": "code",
   "execution_count": 26,
   "metadata": {
    "ExecuteTime": {
     "end_time": "2022-12-29T09:37:57.639147Z",
     "start_time": "2022-12-29T09:37:57.544880Z"
    }
   },
   "outputs": [],
   "source": [
    "# clean all previously defined variables for the sailing boats\n",
    "%reset -f"
   ]
  },
  {
   "cell_type": "code",
   "execution_count": 27,
   "metadata": {
    "ExecuteTime": {
     "end_time": "2022-12-29T09:37:58.003302Z",
     "start_time": "2022-12-29T09:37:57.974957Z"
    }
   },
   "outputs": [
    {
     "data": {
      "text/html": [
       "<div>\n",
       "<style scoped>\n",
       "    .dataframe tbody tr th:only-of-type {\n",
       "        vertical-align: middle;\n",
       "    }\n",
       "\n",
       "    .dataframe tbody tr th {\n",
       "        vertical-align: top;\n",
       "    }\n",
       "\n",
       "    .dataframe thead th {\n",
       "        text-align: right;\n",
       "    }\n",
       "</style>\n",
       "<table border=\"1\" class=\"dataframe\">\n",
       "  <thead>\n",
       "    <tr style=\"text-align: right;\">\n",
       "      <th></th>\n",
       "      <th>MedInc</th>\n",
       "      <th>HouseAge</th>\n",
       "      <th>AveRooms</th>\n",
       "      <th>AveBedrms</th>\n",
       "      <th>Population</th>\n",
       "      <th>AveOccup</th>\n",
       "      <th>Latitude</th>\n",
       "      <th>Longitude</th>\n",
       "    </tr>\n",
       "  </thead>\n",
       "  <tbody>\n",
       "    <tr>\n",
       "      <th>0</th>\n",
       "      <td>8.3252</td>\n",
       "      <td>41.0</td>\n",
       "      <td>6.984127</td>\n",
       "      <td>1.023810</td>\n",
       "      <td>322.0</td>\n",
       "      <td>2.555556</td>\n",
       "      <td>37.88</td>\n",
       "      <td>-122.23</td>\n",
       "    </tr>\n",
       "    <tr>\n",
       "      <th>1</th>\n",
       "      <td>8.3014</td>\n",
       "      <td>21.0</td>\n",
       "      <td>6.238137</td>\n",
       "      <td>0.971880</td>\n",
       "      <td>2401.0</td>\n",
       "      <td>2.109842</td>\n",
       "      <td>37.86</td>\n",
       "      <td>-122.22</td>\n",
       "    </tr>\n",
       "    <tr>\n",
       "      <th>2</th>\n",
       "      <td>7.2574</td>\n",
       "      <td>52.0</td>\n",
       "      <td>8.288136</td>\n",
       "      <td>1.073446</td>\n",
       "      <td>496.0</td>\n",
       "      <td>2.802260</td>\n",
       "      <td>37.85</td>\n",
       "      <td>-122.24</td>\n",
       "    </tr>\n",
       "    <tr>\n",
       "      <th>3</th>\n",
       "      <td>5.6431</td>\n",
       "      <td>52.0</td>\n",
       "      <td>5.817352</td>\n",
       "      <td>1.073059</td>\n",
       "      <td>558.0</td>\n",
       "      <td>2.547945</td>\n",
       "      <td>37.85</td>\n",
       "      <td>-122.25</td>\n",
       "    </tr>\n",
       "    <tr>\n",
       "      <th>4</th>\n",
       "      <td>3.8462</td>\n",
       "      <td>52.0</td>\n",
       "      <td>6.281853</td>\n",
       "      <td>1.081081</td>\n",
       "      <td>565.0</td>\n",
       "      <td>2.181467</td>\n",
       "      <td>37.85</td>\n",
       "      <td>-122.25</td>\n",
       "    </tr>\n",
       "    <tr>\n",
       "      <th>5</th>\n",
       "      <td>4.0368</td>\n",
       "      <td>52.0</td>\n",
       "      <td>4.761658</td>\n",
       "      <td>1.103627</td>\n",
       "      <td>413.0</td>\n",
       "      <td>2.139896</td>\n",
       "      <td>37.85</td>\n",
       "      <td>-122.25</td>\n",
       "    </tr>\n",
       "    <tr>\n",
       "      <th>6</th>\n",
       "      <td>3.6591</td>\n",
       "      <td>52.0</td>\n",
       "      <td>4.931907</td>\n",
       "      <td>0.951362</td>\n",
       "      <td>1094.0</td>\n",
       "      <td>2.128405</td>\n",
       "      <td>37.84</td>\n",
       "      <td>-122.25</td>\n",
       "    </tr>\n",
       "    <tr>\n",
       "      <th>7</th>\n",
       "      <td>3.1200</td>\n",
       "      <td>52.0</td>\n",
       "      <td>4.797527</td>\n",
       "      <td>1.061824</td>\n",
       "      <td>1157.0</td>\n",
       "      <td>1.788253</td>\n",
       "      <td>37.84</td>\n",
       "      <td>-122.25</td>\n",
       "    </tr>\n",
       "    <tr>\n",
       "      <th>8</th>\n",
       "      <td>2.0804</td>\n",
       "      <td>42.0</td>\n",
       "      <td>4.294118</td>\n",
       "      <td>1.117647</td>\n",
       "      <td>1206.0</td>\n",
       "      <td>2.026891</td>\n",
       "      <td>37.84</td>\n",
       "      <td>-122.26</td>\n",
       "    </tr>\n",
       "    <tr>\n",
       "      <th>9</th>\n",
       "      <td>3.6912</td>\n",
       "      <td>52.0</td>\n",
       "      <td>4.970588</td>\n",
       "      <td>0.990196</td>\n",
       "      <td>1551.0</td>\n",
       "      <td>2.172269</td>\n",
       "      <td>37.84</td>\n",
       "      <td>-122.25</td>\n",
       "    </tr>\n",
       "  </tbody>\n",
       "</table>\n",
       "</div>"
      ],
      "text/plain": [
       "   MedInc  HouseAge  AveRooms  AveBedrms  Population  AveOccup  Latitude  \\\n",
       "0  8.3252      41.0  6.984127   1.023810       322.0  2.555556     37.88   \n",
       "1  8.3014      21.0  6.238137   0.971880      2401.0  2.109842     37.86   \n",
       "2  7.2574      52.0  8.288136   1.073446       496.0  2.802260     37.85   \n",
       "3  5.6431      52.0  5.817352   1.073059       558.0  2.547945     37.85   \n",
       "4  3.8462      52.0  6.281853   1.081081       565.0  2.181467     37.85   \n",
       "5  4.0368      52.0  4.761658   1.103627       413.0  2.139896     37.85   \n",
       "6  3.6591      52.0  4.931907   0.951362      1094.0  2.128405     37.84   \n",
       "7  3.1200      52.0  4.797527   1.061824      1157.0  1.788253     37.84   \n",
       "8  2.0804      42.0  4.294118   1.117647      1206.0  2.026891     37.84   \n",
       "9  3.6912      52.0  4.970588   0.990196      1551.0  2.172269     37.84   \n",
       "\n",
       "   Longitude  \n",
       "0    -122.23  \n",
       "1    -122.22  \n",
       "2    -122.24  \n",
       "3    -122.25  \n",
       "4    -122.25  \n",
       "5    -122.25  \n",
       "6    -122.25  \n",
       "7    -122.25  \n",
       "8    -122.26  \n",
       "9    -122.25  "
      ]
     },
     "execution_count": 27,
     "metadata": {},
     "output_type": "execute_result"
    }
   ],
   "source": [
    "\"\"\"Import the required modules\"\"\"\n",
    "from sklearn.datasets import fetch_california_housing\n",
    "import pandas as pd\n",
    "\n",
    "num_samples = 2000 # only use the first N samples to limit training time\n",
    "\n",
    "cal_housing = fetch_california_housing()\n",
    "X = pd.DataFrame(cal_housing.data,columns=cal_housing.feature_names)[:num_samples]\n",
    "y = cal_housing.target[:num_samples]\n",
    "\n",
    "X.head(10) # print the first 10 values"
   ]
  },
  {
   "cell_type": "markdown",
   "metadata": {},
   "source": [
    "Note that each row of the dataset represents a **group of houses** (one district). The `target` variable denotes the average house value in units of 100.000 USD. Median Income is per 10.000 USD."
   ]
  },
  {
   "cell_type": "markdown",
   "metadata": {},
   "source": [
    "### Extracting a subpart of the dataset for testing\n",
    "\n",
    "- Split the dataset between a training set (75%) and a test set (25%)\n",
    "\n",
    "Please use the conventional names `X_train`, `X_test`, `y_train` and `y_test`."
   ]
  },
  {
   "cell_type": "code",
   "execution_count": 28,
   "metadata": {
    "ExecuteTime": {
     "end_time": "2022-12-29T09:37:59.279509Z",
     "start_time": "2022-12-29T09:37:59.271322Z"
    }
   },
   "outputs": [],
   "source": [
    "# TODO\n",
    "from sklearn.model_selection import train_test_split\n",
    "X_train, X_test, y_train, y_test = train_test_split(X, y,random_state=1, test_size = 0.25)"
   ]
  },
  {
   "cell_type": "markdown",
   "metadata": {},
   "source": [
    "### Scaling the input data\n",
    "\n",
    "\n",
    "A step of **scaling** of the data is often useful to ensure that all input data centered on 0 and with a fixed variance.\n",
    "\n",
    "Standardization of a dataset is a common requirement for many machine learning estimators: they might behave badly if the individual features do not more or less look like standard normally distributed data (e.g. Gaussian with 0 mean and unit variance). The function `StandardScaler` from `sklearn.preprocessing` computes the standard score of a sample as:\n",
    "\n",
    "```\n",
    "z = (x - u) / s\n",
    "```\n",
    "\n",
    "where `u` is the mean of the training samples, and `s` is the standard deviation of the training samples.\n",
    "\n",
    "Centering and scaling happen independently on each feature by computing the relevant statistics on the samples in the training set. Mean and standard deviation are then stored to be used on later data using transform.\n",
    "\n",
    " - Apply the standard scaler to both the training dataset (`X_train`) and the test dataset (`X_test`).\n",
    " - Make sure that **exactly the same transformation** is applied to both datasets.\n",
    "\n",
    "[Documentation of standard scaler in scikit learn](https://scikit-learn.org/stable/modules/generated/sklearn.preprocessing.StandardScaler.html)\n",
    "\n"
   ]
  },
  {
   "cell_type": "code",
   "execution_count": 29,
   "metadata": {
    "ExecuteTime": {
     "end_time": "2022-12-29T09:37:59.988800Z",
     "start_time": "2022-12-29T09:37:59.976146Z"
    }
   },
   "outputs": [],
   "source": [
    "# TODO\n",
    "from sklearn.preprocessing import StandardScaler \n",
    "scaler = StandardScaler()\n",
    "\n",
    "#We calculate the 'global' mean which is used during the transformation\n",
    "scaler.fit(X) \n",
    "\n",
    "#Transforming the two datasets to be centered on 0 and with a fixed variance\n",
    "X_train_scaled = scaler.transform(X_train)\n",
    "X_test_scaled = scaler.transform(X_test)"
   ]
  },
  {
   "cell_type": "markdown",
   "metadata": {},
   "source": [
    "## Overfitting\n",
    "\n",
    "In this part, we are only interested in maximizing the **train score**, i.e., having the network memorize the training examples as well as possible.\n",
    "\n",
    "- Propose a parameterization of the network (shape and learning parameters) that will maximize the train score (without considering the test score).\n",
    "    - We propose a neural network of 6 hidden layers of 100 neurons each. \n",
    "\n",
    "While doing this, you should (1) remain within two minutes of training time, and (2) obtain a score that is greater than 0.90.\n",
    "\n",
    "- Is the **test** score substantially smaller than the **train** score (indicator of overfitting) ?\n",
    "    - Yes, the test score is about 20% worse than the train score.\n",
    "- Explain how the parameters you chose allow the learned model to overfit.\n",
    "    - We chose to create a neural network containing more layers and neurons than what is necessary for our dataset. This way, the polynomial function the regressor creates to model the features of the dataset is too specific, meaning the test score will be substantially worse than the recognition rate of the training set since it is fitted to recognize small differences in the training set. "
   ]
  },
  {
   "cell_type": "code",
   "execution_count": 30,
   "metadata": {
    "ExecuteTime": {
     "end_time": "2022-12-29T09:38:04.636759Z",
     "start_time": "2022-12-29T09:38:00.720276Z"
    }
   },
   "outputs": [
    {
     "name": "stdout",
     "output_type": "stream",
     "text": [
      "Train score: 0.9430835811976644\n",
      "Test score: 0.7259472975709911\n",
      "CPU times: user 28.2 s, sys: 1.35 s, total: 29.6 s\n",
      "Wall time: 3.9 s\n"
     ]
    }
   ],
   "source": [
    "%%time \n",
    "#The \"time\" cell magic function allows us to visualize the time it takes to train and test our mlp\n",
    "# TODO\n",
    "# Defining a multi-layer perceptron (MLP) network for regression\n",
    "from sklearn.neural_network import MLPRegressor\n",
    "\n",
    "# define the model, with our params to maximize training score\n",
    "mlp = MLPRegressor(max_iter=3000, hidden_layer_sizes=(100,100,100,100,100,100), random_state=1) \n",
    "mlp.fit(X_train_scaled, y_train) # train the MLP \n",
    "\n",
    "print(f\"Train score: {mlp.score(X_train_scaled, y_train)}\")\n",
    "print(f\"Test score: {mlp.score(X_test_scaled, y_test)}\")"
   ]
  },
  {
   "cell_type": "markdown",
   "metadata": {},
   "source": [
    "## Hyperparameter tuning\n",
    "\n",
    "In this section, we are now interested in maximizing the ability of the network to predict the value of unseen examples, i.e., maximizing the **test** score.\n",
    "You should experiment with the possible parameters of the network in order to obtain a good test score, ideally with a small learning time.\n",
    "\n",
    "Parameters to vary:\n",
    "\n",
    "- number and size of the hidden layers\n",
    "- activation function\n",
    "- stopping conditions\n",
    "- maximum number of iterations\n",
    "- initial learning rate value\n",
    "\n",
    "Results to present for the tested configurations:\n",
    "\n",
    "- Train/test score\n",
    "- training time\n",
    "\n",
    "\n",
    "Present in a table the various parameters tested and the associated results. You can find in the last cell of the notebook a code snippet that will allow you to plot tables from python structure.\n",
    "Be methodical in the way your run your experiments and collect data. For each run, you should record the parameters and results into an external data structure.\n",
    "\n",
    "(Note that, while we encourage you to explore the solution space manually, there are existing methods in scikit-learn and other learning framework to automate this step as well, e.g., [GridSearchCV](https://scikit-learn.org/stable/modules/generated/sklearn.model_selection.GridSearchCV.html))"
   ]
  },
  {
   "cell_type": "code",
   "execution_count": 31,
   "metadata": {
    "ExecuteTime": {
     "end_time": "2022-12-29T09:38:12.888715Z",
     "start_time": "2022-12-29T09:38:04.653339Z"
    }
   },
   "outputs": [
    {
     "data": {
      "text/html": [
       "<div>\n",
       "<style scoped>\n",
       "    .dataframe tbody tr th:only-of-type {\n",
       "        vertical-align: middle;\n",
       "    }\n",
       "\n",
       "    .dataframe tbody tr th {\n",
       "        vertical-align: top;\n",
       "    }\n",
       "\n",
       "    .dataframe thead th {\n",
       "        text-align: right;\n",
       "    }\n",
       "</style>\n",
       "<table border=\"1\" class=\"dataframe\">\n",
       "  <thead>\n",
       "    <tr style=\"text-align: right;\">\n",
       "      <th></th>\n",
       "      <th>tol</th>\n",
       "      <th>structure</th>\n",
       "      <th>activation</th>\n",
       "      <th>learning_rate_init</th>\n",
       "      <th>max_iter</th>\n",
       "      <th>early_stopping</th>\n",
       "      <th>test_score</th>\n",
       "      <th>train_score</th>\n",
       "      <th>training_time</th>\n",
       "    </tr>\n",
       "  </thead>\n",
       "  <tbody>\n",
       "    <tr>\n",
       "      <th>2</th>\n",
       "      <td>-</td>\n",
       "      <td>hidden layers: 2, neurons:(10, 10)</td>\n",
       "      <td>relu</td>\n",
       "      <td>0.001</td>\n",
       "      <td>250</td>\n",
       "      <td>False</td>\n",
       "      <td>0.812961</td>\n",
       "      <td>0.773523</td>\n",
       "      <td>0.271912</td>\n",
       "    </tr>\n",
       "    <tr>\n",
       "      <th>3</th>\n",
       "      <td>-</td>\n",
       "      <td>hidden layers: 2, neurons:(10, 10)</td>\n",
       "      <td>relu</td>\n",
       "      <td>0.001</td>\n",
       "      <td>2500</td>\n",
       "      <td>True</td>\n",
       "      <td>0.807264</td>\n",
       "      <td>0.766763</td>\n",
       "      <td>0.274380</td>\n",
       "    </tr>\n",
       "    <tr>\n",
       "      <th>10</th>\n",
       "      <td>-</td>\n",
       "      <td>hidden layers: 2, neurons:(10, 10)</td>\n",
       "      <td>relu</td>\n",
       "      <td>0.001</td>\n",
       "      <td>250</td>\n",
       "      <td>True</td>\n",
       "      <td>0.807264</td>\n",
       "      <td>0.766763</td>\n",
       "      <td>0.282830</td>\n",
       "    </tr>\n",
       "    <tr>\n",
       "      <th>6</th>\n",
       "      <td>-</td>\n",
       "      <td>hidden layers: 3, neurons:(10, 10, 10)</td>\n",
       "      <td>relu</td>\n",
       "      <td>0.1</td>\n",
       "      <td>2500</td>\n",
       "      <td>False</td>\n",
       "      <td>0.804720</td>\n",
       "      <td>0.769171</td>\n",
       "      <td>0.070125</td>\n",
       "    </tr>\n",
       "    <tr>\n",
       "      <th>9</th>\n",
       "      <td>-</td>\n",
       "      <td>hidden layers: 2, neurons:(13, 7)</td>\n",
       "      <td>relu</td>\n",
       "      <td>0.001</td>\n",
       "      <td>500</td>\n",
       "      <td>False</td>\n",
       "      <td>0.802840</td>\n",
       "      <td>0.801493</td>\n",
       "      <td>0.369938</td>\n",
       "    </tr>\n",
       "    <tr>\n",
       "      <th>8</th>\n",
       "      <td>-</td>\n",
       "      <td>hidden layers: 2, neurons:(10, 10)</td>\n",
       "      <td>tanh</td>\n",
       "      <td>0.001</td>\n",
       "      <td>500</td>\n",
       "      <td>False</td>\n",
       "      <td>0.796436</td>\n",
       "      <td>0.809232</td>\n",
       "      <td>0.378324</td>\n",
       "    </tr>\n",
       "    <tr>\n",
       "      <th>0</th>\n",
       "      <td>0.0001</td>\n",
       "      <td>hidden layers: 4, neurons:(100, 100, 100, 100)</td>\n",
       "      <td>relu</td>\n",
       "      <td>0.001</td>\n",
       "      <td>500</td>\n",
       "      <td>False</td>\n",
       "      <td>0.792111</td>\n",
       "      <td>0.828632</td>\n",
       "      <td>0.875639</td>\n",
       "    </tr>\n",
       "    <tr>\n",
       "      <th>4</th>\n",
       "      <td>-</td>\n",
       "      <td>hidden layers: 2, neurons:(10, 10)</td>\n",
       "      <td>relu</td>\n",
       "      <td>0.001</td>\n",
       "      <td>5000</td>\n",
       "      <td>False</td>\n",
       "      <td>0.789289</td>\n",
       "      <td>0.830669</td>\n",
       "      <td>0.278828</td>\n",
       "    </tr>\n",
       "    <tr>\n",
       "      <th>5</th>\n",
       "      <td>-</td>\n",
       "      <td>hidden layers: 1, neurons:50</td>\n",
       "      <td>relu</td>\n",
       "      <td>0.001</td>\n",
       "      <td>5000</td>\n",
       "      <td>False</td>\n",
       "      <td>0.787263</td>\n",
       "      <td>0.821677</td>\n",
       "      <td>0.652668</td>\n",
       "    </tr>\n",
       "    <tr>\n",
       "      <th>1</th>\n",
       "      <td>-</td>\n",
       "      <td>hidden layers: 4, neurons:(100, 100, 100, 100)</td>\n",
       "      <td>relu</td>\n",
       "      <td>0.001</td>\n",
       "      <td>2500</td>\n",
       "      <td>False</td>\n",
       "      <td>0.771896</td>\n",
       "      <td>0.944599</td>\n",
       "      <td>4.501792</td>\n",
       "    </tr>\n",
       "    <tr>\n",
       "      <th>7</th>\n",
       "      <td>-</td>\n",
       "      <td>hidden layers: 2, neurons:(10, 10)</td>\n",
       "      <td>identity</td>\n",
       "      <td>0.001</td>\n",
       "      <td>500</td>\n",
       "      <td>False</td>\n",
       "      <td>0.743002</td>\n",
       "      <td>0.689359</td>\n",
       "      <td>0.213180</td>\n",
       "    </tr>\n",
       "  </tbody>\n",
       "</table>\n",
       "</div>"
      ],
      "text/plain": [
       "       tol                                       structure activation  \\\n",
       "2        -              hidden layers: 2, neurons:(10, 10)       relu   \n",
       "3        -              hidden layers: 2, neurons:(10, 10)       relu   \n",
       "10       -              hidden layers: 2, neurons:(10, 10)       relu   \n",
       "6        -          hidden layers: 3, neurons:(10, 10, 10)       relu   \n",
       "9        -               hidden layers: 2, neurons:(13, 7)       relu   \n",
       "8        -              hidden layers: 2, neurons:(10, 10)       tanh   \n",
       "0   0.0001  hidden layers: 4, neurons:(100, 100, 100, 100)       relu   \n",
       "4        -              hidden layers: 2, neurons:(10, 10)       relu   \n",
       "5        -                    hidden layers: 1, neurons:50       relu   \n",
       "1        -  hidden layers: 4, neurons:(100, 100, 100, 100)       relu   \n",
       "7        -              hidden layers: 2, neurons:(10, 10)   identity   \n",
       "\n",
       "   learning_rate_init max_iter  early_stopping  test_score  train_score  \\\n",
       "2               0.001      250           False    0.812961     0.773523   \n",
       "3               0.001     2500            True    0.807264     0.766763   \n",
       "10              0.001      250            True    0.807264     0.766763   \n",
       "6                 0.1     2500           False    0.804720     0.769171   \n",
       "9               0.001      500           False    0.802840     0.801493   \n",
       "8               0.001      500           False    0.796436     0.809232   \n",
       "0               0.001      500           False    0.792111     0.828632   \n",
       "4               0.001     5000           False    0.789289     0.830669   \n",
       "5               0.001     5000           False    0.787263     0.821677   \n",
       "1               0.001     2500           False    0.771896     0.944599   \n",
       "7               0.001      500           False    0.743002     0.689359   \n",
       "\n",
       "    training_time  \n",
       "2        0.271912  \n",
       "3        0.274380  \n",
       "10       0.282830  \n",
       "6        0.070125  \n",
       "9        0.369938  \n",
       "8        0.378324  \n",
       "0        0.875639  \n",
       "4        0.278828  \n",
       "5        0.652668  \n",
       "1        4.501792  \n",
       "7        0.213180  "
      ]
     },
     "execution_count": 31,
     "metadata": {},
     "output_type": "execute_result"
    }
   ],
   "source": [
    "# TODO\n",
    "import pandas as pd\n",
    "import numpy as np\n",
    "import time\n",
    "\n",
    "data = []\n",
    "\n",
    "\n",
    "#training 0\n",
    "start_training = time.time()\n",
    "mlp = MLPRegressor(tol=0.00001,max_iter=2500, hidden_layer_sizes=(10, 10), random_state=1) #early_stopping: false and learning_rate_init: 0.001, activation: 'relu'\n",
    "mlp.fit(X_train_scaled, y_train) # train the MLP \n",
    "stop_training = time.time()\n",
    "#results 0\n",
    "training_score = mlp.score(X_train_scaled, y_train)\n",
    "test_score = mlp.score(X_test_scaled, y_test)\n",
    "data.append({'tol': 10e-5, 'structure': 'hidden layers: 4, neurons:(100, 100, 100, 100)','activation': 'relu', 'learning_rate_init': '0.001', 'max_iter': '500', 'early_stopping': False, 'test_score': test_score, 'train_score': training_score, 'training_time': stop_training - start_training})\n",
    "\n",
    "#training 1\n",
    "start_training = time.time()\n",
    "mlp = MLPRegressor(max_iter=2500, hidden_layer_sizes=(100, 100, 100, 100), random_state=1) #early_stopping: false and learning_rate_init: 0.001, activation: 'relu'\n",
    "mlp.fit(X_train_scaled, y_train) # train the MLP \n",
    "stop_training = time.time()\n",
    "#results 1\n",
    "training_score = mlp.score(X_train_scaled, y_train)\n",
    "test_score = mlp.score(X_test_scaled, y_test)\n",
    "data.append({'structure': 'hidden layers: 4, neurons:(100, 100, 100, 100)','activation': 'relu', 'learning_rate_init': '0.001', 'max_iter': '2500', 'early_stopping': False, 'test_score': test_score, 'train_score': training_score, 'training_time': stop_training - start_training})\n",
    "\n",
    "#training 2\n",
    "start_training = time.time()\n",
    "mlp = MLPRegressor(max_iter=250, hidden_layer_sizes=(10, 10), random_state=1) #early_stopping: false and learning_rate_init: 0.001, activation: 'relu'\n",
    "mlp.fit(X_train_scaled, y_train) # train the MLP \n",
    "stop_training = time.time()\n",
    "#results 2\n",
    "training_score = mlp.score(X_train_scaled, y_train)\n",
    "test_score = mlp.score(X_test_scaled, y_test)\n",
    "data.append({'structure': 'hidden layers: 2, neurons:(10, 10)','activation': 'relu', 'learning_rate_init': '0.001', 'max_iter': '250', 'early_stopping': False, 'test_score': test_score, 'train_score': training_score, 'training_time': stop_training - start_training})\n",
    "\n",
    "#training 3\n",
    "start_training = time.time()\n",
    "mlp = MLPRegressor(early_stopping=True, max_iter=2500, hidden_layer_sizes=(10, 10), random_state=1) #early_stopping: false and learning_rate_init: 0.001, activation: 'relu'\n",
    "mlp.fit(X_train_scaled, y_train) # train the MLP \n",
    "stop_training = time.time()\n",
    "#results 3\n",
    "training_score = mlp.score(X_train_scaled, y_train)\n",
    "test_score = mlp.score(X_test_scaled, y_test)\n",
    "data.append({'structure': 'hidden layers: 2, neurons:(10, 10)','activation': 'relu', 'learning_rate_init': '0.001', 'max_iter': '2500', 'early_stopping': True, 'test_score': test_score, 'train_score': training_score, 'training_time': stop_training - start_training})\n",
    "\n",
    "#training 4\n",
    "start_training = time.time()\n",
    "mlp = MLPRegressor(max_iter=5000, hidden_layer_sizes=(10, 10), random_state=1, learning_rate_init=0.005) #early_stopping: false and learning_rate_init: 0.001, activation: 'relu'\n",
    "mlp.fit(X_train_scaled, y_train) # train the MLP \n",
    "stop_training = time.time()\n",
    "#results 4\n",
    "training_score = mlp.score(X_train_scaled, y_train)\n",
    "test_score = mlp.score(X_test_scaled, y_test)\n",
    "data.append({'structure': 'hidden layers: 2, neurons:(10, 10)','activation': 'relu', 'learning_rate_init': '0.001', 'max_iter': '5000', 'early_stopping': False, 'test_score': test_score, 'train_score': training_score, 'training_time': stop_training - start_training})\n",
    "\n",
    "#training 5\n",
    "start_training = time.time()\n",
    "mlp = MLPRegressor(max_iter=5000, hidden_layer_sizes=(50), random_state=1) #early_stopping: false and learning_rate_init: 0.001, activation: 'relu'\n",
    "mlp.fit(X_train_scaled, y_train) # train the MLP \n",
    "stop_training = time.time()\n",
    "#results 5\n",
    "training_score = mlp.score(X_train_scaled, y_train)\n",
    "test_score = mlp.score(X_test_scaled, y_test)\n",
    "data.append({'structure': 'hidden layers: 1, neurons:50','activation': 'relu', 'learning_rate_init': '0.001', 'max_iter': '5000', 'early_stopping': False, 'test_score': test_score, 'train_score': training_score, 'training_time': stop_training - start_training})\n",
    "\n",
    "#training 6\n",
    "start_training = time.time()\n",
    "mlp = MLPRegressor(max_iter=2500, hidden_layer_sizes=(10,10,10), random_state=1, learning_rate_init=0.1) #early_stopping: false and learning_rate_init: 0.001, activation: 'relu'\n",
    "mlp.fit(X_train_scaled, y_train) # train the MLP \n",
    "stop_training = time.time()\n",
    "#results 6\n",
    "training_score = mlp.score(X_train_scaled, y_train)\n",
    "test_score = mlp.score(X_test_scaled, y_test)\n",
    "data.append({'structure': 'hidden layers: 3, neurons:(10, 10, 10)','activation': 'relu', 'learning_rate_init': '0.1', 'max_iter': '2500', 'early_stopping': False, 'test_score': test_score, 'train_score': training_score, 'training_time': stop_training - start_training})\n",
    "\n",
    "#training 7\n",
    "start_training = time.time()\n",
    "mlp = MLPRegressor(max_iter=500, hidden_layer_sizes=(10, 10), random_state=1, activation='identity') #early_stopping = False, learning_rate_init: 0.001, activation: 'relu'\n",
    "mlp.fit(X_train_scaled, y_train) # train the MLP \n",
    "stop_training = time.time()\n",
    "#results 7\n",
    "training_score = mlp.score(X_train_scaled, y_train)\n",
    "test_score = mlp.score(X_test_scaled, y_test)\n",
    "data.append({'activation':'identity','structure': 'hidden layers: 2, neurons:(10, 10)', 'learning_rate_init': '0.001', 'max_iter': '500', 'early_stopping': False, 'test_score': test_score, 'train_score': training_score, 'training_time': stop_training - start_training})\n",
    "\n",
    "#training 8\n",
    "start_training = time.time()\n",
    "mlp = MLPRegressor(max_iter=500, hidden_layer_sizes=(10, 10), random_state=1, activation='tanh') #early_stopping = False, learning_rate_init: 0.001, activation: 'relu'\n",
    "mlp.fit(X_train_scaled, y_train) # train the MLP \n",
    "stop_training = time.time()\n",
    "#results 8\n",
    "training_score = mlp.score(X_train_scaled, y_train)\n",
    "test_score = mlp.score(X_test_scaled, y_test)\n",
    "data.append({'activation':'tanh','structure': 'hidden layers: 2, neurons:(10, 10)', 'learning_rate_init': '0.001', 'max_iter': '500', 'early_stopping': False, 'test_score': test_score, 'train_score': training_score, 'training_time': stop_training - start_training})\n",
    "\n",
    "#training 9\n",
    "start_training = time.time()\n",
    "mlp = MLPRegressor(max_iter=500, hidden_layer_sizes=(13, 7), random_state=1) #early_stopping: false and learning_rate_init: 0.001, activation: 'relu'\n",
    "mlp.fit(X_train_scaled, y_train) # train the MLP \n",
    "stop_training = time.time()\n",
    "#results 9\n",
    "training_score = mlp.score(X_train_scaled, y_train)\n",
    "test_score = mlp.score(X_test_scaled, y_test)\n",
    "data.append({'structure': 'hidden layers: 2, neurons:(13, 7)','activation': 'relu', 'learning_rate_init': '0.001', 'max_iter': '500', 'early_stopping': False, 'test_score': test_score, 'train_score': training_score, 'training_time': stop_training - start_training})\n",
    "\n",
    "#training 10\n",
    "start_training = time.time()\n",
    "mlp = MLPRegressor(max_iter=250, hidden_layer_sizes=(10, 10), random_state=1, early_stopping=True) #learning_rate_init: 0.001, activation: 'relu'\n",
    "mlp.fit(X_train_scaled, y_train) # train the MLP \n",
    "stop_training = time.time()\n",
    "#results 10\n",
    "training_score = mlp.score(X_train_scaled, y_train)\n",
    "test_score = mlp.score(X_test_scaled, y_test)\n",
    "data.append({'structure': 'hidden layers: 2, neurons:(10, 10)','activation': 'relu', 'learning_rate_init': '0.001', 'max_iter': '250', 'early_stopping': True, 'test_score': test_score, 'train_score': training_score, 'training_time': stop_training - start_training})\n",
    "\n",
    "\n",
    "#Visualization of the data obtained from our tests\n",
    "table = pd.DataFrame.from_dict(data)\n",
    "table = table.replace(np.nan, '-')\n",
    "table = table.sort_values(by='test_score', ascending=False)\n",
    "table"
   ]
  },
  {
   "cell_type": "markdown",
   "metadata": {},
   "source": [
    "In the table, we have visualized the manual iterations for which we have changed one or more parameters to see if test performance changed. We notice that our second iteration was the model with the best parameters. \n",
    "\n",
    "We also tried around 15 other combinations that performed worse than the iterations in the table, and we left these aside as we did not want our testing to take too much time. This additional testing allowed us to observe more of the impact of changing the different parameters, and thus tune the hyperparameters with greater precision."
   ]
  },
  {
   "cell_type": "markdown",
   "metadata": {},
   "source": [
    "## Evaluation\n",
    "\n",
    "- From your experiments, what seems to be the best model (i.e. set of parameters) for predicting the value of a house?\n",
    "    - The best model seems to be one with 2 hidden layers of 10 neurons each. This way, we achieve good training and test scores, without overfitting. We trained this model using 250 as the max number of iterations. We kept the default values for learning_rate_init (0.001), activation model ('relu'), tol (10e-4) and early_stopping (False). \n",
    "Unless you used cross-validation, you have probably used the \"test\" set to select the best model among the ones you experimented with.\n",
    "Since your model is the one that worked best on the \"test\" set, your selection is *biased*.\n",
    "\n",
    "In all rigor the original dataset should be split in three:\n",
    "\n",
    "- the **training set**, on which each model is trained\n",
    "- the **validation set**, that is used to pick the best parameters of the model \n",
    "- the **test set**, on which we evaluate the final model\n",
    "\n",
    "\n",
    "Evaluate the score of your algorithm on a test set that was not used for training nor for model selection.\n",
    "\n"
   ]
  },
  {
   "cell_type": "code",
   "execution_count": 32,
   "metadata": {
    "ExecuteTime": {
     "end_time": "2022-12-29T09:38:13.141464Z",
     "start_time": "2022-12-29T09:38:12.906014Z"
    }
   },
   "outputs": [
    {
     "name": "stdout",
     "output_type": "stream",
     "text": [
      "Training score: 0.7735227581042599\n",
      "Test score: 0.7907184010968576\n",
      "Verification of model tuning - Validation score: 0.8003574388307991\n",
      "Training time: 0.2170701026916504\n"
     ]
    }
   ],
   "source": [
    "# TODO\n",
    "from sklearn.model_selection import train_test_split\n",
    "from sklearn.preprocessing import StandardScaler \n",
    "\n",
    "scaler = StandardScaler()\n",
    "#splitting dataset into three: Training Set (70%), Validation Set (15%) and Test Set (15%)\n",
    "X_training, X_1, y_training, y_1 = train_test_split(X, y,random_state=1, test_size = 0.3) #training = 0.7\n",
    "X_test, X_validation, y_test, y_validation = train_test_split(X_1, y_1, random_state=1, test_size=0.5)\n",
    "\n",
    "#We calculate the 'global' mean which is used during the transformation\n",
    "scaler.fit(X) \n",
    "\n",
    "#Transforming the two datasets to be centered on 0 and with a fixed variance\n",
    "X_train_scaled = scaler.transform(X_train)\n",
    "X_test_scaled = scaler.transform(X_test)\n",
    "X_validation_scaled = scaler.transform(X_validation)\n",
    "\n",
    "\n",
    "#training with our best model\n",
    "start_training = time.time()\n",
    "mlp = MLPRegressor(max_iter=250, hidden_layer_sizes=(10, 10), random_state=1) #early_stopping: false and learning_rate_init: 0.001, activation: 'relu'\n",
    "mlp.fit(X_train_scaled, y_train) # train the MLP \n",
    "stop_training = time.time()\n",
    "#results\n",
    "training_score = mlp.score(X_train_scaled, y_train)\n",
    "test_score = mlp.score(X_test_scaled, y_test)\n",
    "validation = mlp.score(X_validation_scaled, y_validation)\n",
    "\n",
    "print(f\"Training score: {training_score}\")\n",
    "print(f\"Test score: {test_score}\")\n",
    "print(f\"Verification of model tuning - Validation score: {validation}\")\n",
    "print(f\"Training time: {stop_training-start_training}\")"
   ]
  },
  {
   "cell_type": "markdown",
   "metadata": {},
   "source": [
    "## Conclusion\n",
    "We notice that the validation score is about the same as both our test and our training score, which is a good sanity check that confirms that the model is well fitted and not only useful to memorize the data already used in training. The verification set scoring well indicates that our model is not too biased (i.e. underperforming with unknown data sets) and is a good performance indicator. "
   ]
  }
 ],
 "metadata": {
  "kernelspec": {
   "display_name": "Python 3 (ipykernel)",
   "language": "python",
   "name": "python3"
  },
  "language_info": {
   "codemirror_mode": {
    "name": "ipython",
    "version": 3
   },
   "file_extension": ".py",
   "mimetype": "text/x-python",
   "name": "python",
   "nbconvert_exporter": "python",
   "pygments_lexer": "ipython3",
   "version": "3.9.12"
  }
 },
 "nbformat": 4,
 "nbformat_minor": 4
}
