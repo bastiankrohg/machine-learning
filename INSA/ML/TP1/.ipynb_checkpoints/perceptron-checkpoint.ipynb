{
 "cells": [
  {
   "cell_type": "markdown",
   "metadata": {},
   "source": [
    "## Introduction\n",
    "Bastian KROHG and Nicolas SIARD\n",
    "INSA 4A AE-SE Group 1 \n",
    "Supervised Learning \n",
    "\n",
    "In this lab work, we will learn how to develop and train a linear perceptron that can be trained using a dataset from the hydrodynamic performance of sailing yachts. We will use the gradient descent method to train the model by updating the weights according to losses for each learning iteration. "
   ]
  },
  {
   "cell_type": "markdown",
   "metadata": {},
   "source": [
    "## Objectives of the practical work\n",
    "\n",
    "The objective is to get hands on experience on the fundamental elements of neural networks:\n",
    " \n",
    " - perceptron architecture (linear regression)\n",
    " - loss function\n",
    " - empirical loss\n",
    " - gradient descent\n",
    "\n",
    "For this we will implement from scratch the data-structure and algorithms to train a perceptron. Note that slides related to the perceptron and neural networks in general are available on [moodle](https://moodle.insa-toulouse.fr/course/view.php?id=1790).\n",
    "\n",
    "## Dataset\n",
    "\n",
    "The objective of the regression is the prediction of the hydrodynamic performance of sailing yachts from dimensions and velocity.\n",
    "The **inputs** are linked to dimension and hydrodynamics characteristics:\n",
    "1. Longitudinal position of the center of buoyancy\n",
    "(*flottabilité*), adimensional.\n",
    "2. Prismatic coefficient, adimensional.\n",
    "3. Length-displacement ratio, adimensional.\n",
    "4. Beam -draught ratio ((*tiran d’eau*), adimensional.\n",
    "5. Length-beam ratio, adimensional.\n",
    "6. Froude number, adimensional\n",
    "\n",
    "**Target value/predicted value (Output)** = Residuary resistance per unit weight of\n",
    "displacement, adimensional"
   ]
  },
  {
   "cell_type": "code",
   "execution_count": 44,
   "metadata": {},
   "outputs": [],
   "source": [
    "# Import some useful libraries and functions\n",
    "\n",
    "import numpy as np\n",
    "import pandas\n",
    "\n",
    "def print_stats(dataset):\n",
    "    \"\"\"Print statistics of a dataset\"\"\"\n",
    "    print(pandas.DataFrame(dataset).describe())\n"
   ]
  },
  {
   "cell_type": "code",
   "execution_count": 45,
   "metadata": {},
   "outputs": [
    {
     "name": "stdout",
     "output_type": "stream",
     "text": [
      "Dataset available\n"
     ]
    }
   ],
   "source": [
    "# Download the data set and place in the current folder (works on linux only)\n",
    "filename = 'yacht_hydrodynamics.data'\n",
    "\n",
    "import os.path\n",
    "import requests\n",
    "\n",
    "if not os.path.exists(filename):\n",
    "    print(\"Downloading dataset...\")\n",
    "    r = requests.get('https://arbimo.github.io/tp-supervised-learning/tp2/' + filename)\n",
    "    open(filename , 'wb').write(r.content)\n",
    "    \n",
    "print('Dataset available')"
   ]
  },
  {
   "cell_type": "markdown",
   "metadata": {},
   "source": [
    "### Explore the dataset\n",
    "\n",
    "- how many examples are there in the dataset?\n",
    "    - There are 308 examples in the dataset. \n",
    "- how many features for each example?\n",
    "    - There are 7 features for each example. \n",
    "- what is the ground truth of the 10th example\n",
    "    - 7.16"
   ]
  },
  {
   "cell_type": "code",
   "execution_count": 46,
   "metadata": {},
   "outputs": [
    {
     "name": "stdout",
     "output_type": "stream",
     "text": [
      "f([-2.3    0.568  4.78   3.99   3.17   0.125]) = 0.11\n",
      "f([-2.3    0.568  4.78   3.99   3.17   0.15 ]) = 0.27\n",
      "f([-2.3    0.568  4.78   3.99   3.17   0.175]) = 0.47\n",
      "f([-2.3    0.568  4.78   3.99   3.17   0.2  ]) = 0.78\n",
      "f([-2.3    0.568  4.78   3.99   3.17   0.225]) = 1.18\n",
      "Ground Truth for 10th example: 7.16\n"
     ]
    }
   ],
   "source": [
    "# load the dataset and slip between inputs (X) and ground truth (Y)\n",
    "dataset = np.genfromtxt(\"yacht_hydrodynamics.data\", delimiter='')\n",
    "X = dataset[:, :-1] # examples features -  all rows with all elements in rows except last one\n",
    "Y = dataset[:, -1]  # ground truth - last element in all rows\n",
    "\n",
    "# Print the first 5 examples\n",
    "for i in range(0,5):\n",
    "    print(f\"f({X[i]}) = {Y[i]}\")\n",
    "\n",
    "print(\"Ground Truth for 10th example:\",Y[9])"
   ]
  },
  {
   "cell_type": "markdown",
   "metadata": {},
   "source": [
    "The following command adds a column to the inputs.\n",
    "\n",
    "- what is in the value added this column?\n",
    "    - The value added to this column is a vector of ones for each row in X. \n",
    "- why are we doing this?\n",
    "    - This first column serves as a bias value, it is our \"x[0]\", our constant value which is multiplied with w0. "
   ]
  },
  {
   "cell_type": "code",
   "execution_count": 135,
   "metadata": {},
   "outputs": [
    {
     "name": "stdout",
     "output_type": "stream",
     "text": [
      "           0      1           2           3           4           5  \\\n",
      "count  308.0  308.0  308.000000  308.000000  308.000000  308.000000   \n",
      "mean     1.0    1.0   -2.381818    0.564136    4.788636    3.936818   \n",
      "std      0.0    0.0    1.513219    0.023290    0.253057    0.548193   \n",
      "min      1.0    1.0   -5.000000    0.530000    4.340000    2.810000   \n",
      "25%      1.0    1.0   -2.400000    0.546000    4.770000    3.750000   \n",
      "50%      1.0    1.0   -2.300000    0.565000    4.780000    3.955000   \n",
      "75%      1.0    1.0   -2.300000    0.574000    5.100000    4.170000   \n",
      "max      1.0    1.0    0.000000    0.600000    5.140000    5.350000   \n",
      "\n",
      "                6           7  \n",
      "count  308.000000  308.000000  \n",
      "mean     3.206818    0.287500  \n",
      "std      0.247998    0.100942  \n",
      "min      2.730000    0.125000  \n",
      "25%      3.150000    0.200000  \n",
      "50%      3.150000    0.287500  \n",
      "75%      3.510000    0.375000  \n",
      "max      3.640000    0.450000  \n"
     ]
    }
   ],
   "source": [
    "X = np.insert(X, 0, np.ones((len(X))), axis= 1)\n",
    "print_stats(X)\n"
   ]
  },
  {
   "cell_type": "markdown",
   "metadata": {},
   "source": [
    "## Creating the perceptron\n",
    "\n",
    "![Perceptron for regression](https://arbimo.github.io/tp-supervised-learning/2223-ae/tp1/perceptron-regression.png)\n",
    "\n",
    "We now want to define a perceptron, that is, a function of the form: \n",
    "\n",
    "$h_w(x) = w_0 + w_1 \\times x_1 + \\dots + w_n \\times x_n$\n",
    "\n",
    "- Complete the code snippet below to:\n",
    "  - create the vector of weight `w`, initialize to arbitrary values (we suggest 0)\n",
    "      - Ok\n",
    "  - implement the `h` function that evaluate an example based on the vector of weights\n",
    "      - Ok\n",
    "  - check if this works on a few examples\n",
    "      - Ok"
   ]
  },
  {
   "cell_type": "code",
   "execution_count": 136,
   "metadata": {},
   "outputs": [
    {
     "name": "stdout",
     "output_type": "stream",
     "text": [
      "Test: 0.0\n",
      "Ground Truth:  0.27  Evaluation of h_w of first example: h(w,X[1]) =  0.0\n",
      "Ground Truth:  0.47  Evaluation of h_w of second example: h(w,X[2]) =  0.0\n"
     ]
    }
   ],
   "source": [
    "#w = None # TODO\n",
    "w = np.zeros(len(X[1]))\n",
    "def h(w, x):\n",
    "    product = w*x #the bias value is introduced here as x[0]\n",
    "    somme = np.sum(product)\n",
    "    return somme\n",
    "\n",
    "test = h(w,X[100])\n",
    "print(f\"Test: {test}\")\n",
    "\n",
    "# print the ground truth and the evaluation of h_w on the first example\n",
    "print(\"Ground Truth: \", Y[1], \" Evaluation of h_w of first example: h(w,X[1]) = \",h(w,X[1]))\n",
    "print(\"Ground Truth: \", Y[2], \" Evaluation of h_w of second example: h(w,X[2]) = \",h(w,X[2]))"
   ]
  },
  {
   "cell_type": "markdown",
   "metadata": {},
   "source": [
    "## Loss function\n",
    "\n",
    "Complete the definiton of the loss function below such that, for a **single** example `x` with ground truth `y`, it returns the $L_2$ loss of $h_w$ on `x`."
   ]
  },
  {
   "cell_type": "code",
   "execution_count": 137,
   "metadata": {},
   "outputs": [
    {
     "name": "stdout",
     "output_type": "stream",
     "text": [
      "test: 0.11\n"
     ]
    }
   ],
   "source": [
    "def loss(w, x, y):\n",
    "    return (y - (h(w,x)))\n",
    "test = loss(w, X[0], Y[0])\n",
    "print(f\"test: {test}\")"
   ]
  },
  {
   "cell_type": "markdown",
   "metadata": {},
   "source": [
    "## Empirical loss\n",
    "\n",
    "Complete the function below to compute the empirical loss of $h_w$ on a **set** of examples $X$ with associated ground truths $Y$."
   ]
  },
  {
   "cell_type": "code",
   "execution_count": 138,
   "metadata": {
    "scrolled": true
   },
   "outputs": [
    {
     "name": "stdout",
     "output_type": "stream",
     "text": [
      "Empirical loss before training: 10.495357142857141\n"
     ]
    }
   ],
   "source": [
    "def emp_loss(w, X, Y):\n",
    "    emp_h = 0\n",
    "    n = len(X) #308\n",
    "    for i in range(0,n):\n",
    "        emp_h = emp_h + loss(w,X[i],Y[i])\n",
    "    return emp_h / n\n",
    "test = emp_loss(w,X,Y)\n",
    "print(f\"Empirical loss before training: {test}\")"
   ]
  },
  {
   "cell_type": "markdown",
   "metadata": {},
   "source": [
    "## Gradient update\n",
    "\n",
    "A gradient update is of the form: $w \\gets w + dw$\n",
    "\n",
    "- Complete the function below so that it computes the $dw$ term (the 'update') based on a set of examples `(X, Y)` the step (`alpha`)\n",
    "\n",
    "(you can look at slides 21-23 of the ANN lecture slides for an example)"
   ]
  },
  {
   "cell_type": "code",
   "execution_count": 139,
   "metadata": {},
   "outputs": [
    {
     "name": "stdout",
     "output_type": "stream",
     "text": [
      "[ 0.00323257  0.00323257 -0.00756342  0.00182051  0.01547611  0.01269435\n",
      "  0.01036508  0.00130996]\n"
     ]
    }
   ],
   "source": [
    "def compute_update(w, X, Y, alpha):\n",
    "    n = len(X)\n",
    "    update = 0 #we accumulate the update values for each of the examples\n",
    "    for i in range(0,n): \n",
    "        update = update + alpha*X[i]*loss(w,X[i],Y[i]) #w_i,k(t+1) <-- w_i,k(t) + alpha * x_i * loss where loss is an estimation, and is the same for each iteration\n",
    "    return update\n",
    "    \n",
    "    \n",
    "dw = compute_update(w, X, Y, alpha = 10e-7)\n",
    "print(dw)"
   ]
  },
  {
   "cell_type": "markdown",
   "metadata": {},
   "source": [
    "## Gradient descent\n",
    "\n",
    "Now implement the gradient descent algorithm that will:\n",
    "\n",
    "- repeatedly apply an update the weights \n",
    "- stops when a max number of iterations is reached (do not consider early stopping for now)\n",
    "- returns the final vector of weights"
   ]
  },
  {
   "cell_type": "code",
   "execution_count": 140,
   "metadata": {},
   "outputs": [],
   "source": [
    "def descent(w_init, X, Y, alpha, max_iter):\n",
    "    for i in range(0,max_iter):\n",
    "        w_init = w_init + compute_update(w_init,X,Y,alpha)    \n",
    "    return w_init"
   ]
  },
  {
   "cell_type": "markdown",
   "metadata": {},
   "source": [
    "## Exploitation\n",
    "\n",
    "You gradient descent is now complete and you can exploit it to train your perceptron.\n",
    "\n",
    "- Train your perceptron to get a model.\n",
    "- Visualize the evolution of the loss on the training set. Has it converged?\n",
    "    - The convergence of the model depends on alpha, the speed at which the weights are being changed. If it is too small, the perceptron does not have time to converge, and if it is too big the model will diverge. By choosing an alpha of around 10e-5, we found that the regression was a quite good linear representation of the curves. This could be improved further by using non-linear models since the ground truths were not linear.   \n",
    "- Try training for several choices of `alpha` and `max_iter`. What seem like a reasonable choice? \n",
    "    - We ended up using an alpha of 10e-5 as we explained above, and 750 as the number of max iterations. We noticed that above a certain level, we do not improve the fitting of the model, for example the difference from 750 to 1000 iterations changes little compared to the change from 500 to 750 where we notice a slight but noticeable increase in the slope of the linear function. We therefore chose to stick with about 750 iterations. With too few iterations, the slope was flatter, as the model did not have sufficient training to adjust to the examples of the database.\n",
    "- What is the loss associated with the final model?\n",
    "    - The empirical loss is of 0.00629 which we have calculated in the cell below after training our model. Before training, with all weights w at 0, the empirical loss was 10.49535, so we notice a significant improvement in performance.    \n",
    "- Is the final model the optimal one for a perceptron?\n",
    "    - The final model is a good linear approximation, however it is highly dependent of the model being treated. In this case, we have a hyperbolic model where the ground truths, Y, increase exponentially, which is difficult to imitate with a linear model. "
   ]
  },
  {
   "cell_type": "code",
   "execution_count": 141,
   "metadata": {},
   "outputs": [
    {
     "name": "stdout",
     "output_type": "stream",
     "text": [
      "[ 0.58834383  0.58834383  0.1889127   0.1141326   0.70488603 -0.34285881\n",
      "  0.0989342  25.58807277]\n",
      "Empirical loss after training: 0.004733831576792964\n"
     ]
    }
   ],
   "source": [
    "# TODO\n",
    "#learning by gradient descent\n",
    "w = np.zeros(len(X[1]))\n",
    "alpha = 10e-5\n",
    "max_iter = 750\n",
    "w = descent(w, X, Y, alpha, max_iter)\n",
    "print(w)\n",
    "print(f\"Empirical loss after training: {emp_loss(w,X,Y)}\")"
   ]
  },
  {
   "cell_type": "code",
   "execution_count": 142,
   "metadata": {},
   "outputs": [
    {
     "data": {
      "text/plain": [
       "Text(0, 0.5, 'f(examples)')"
      ]
     },
     "execution_count": 142,
     "metadata": {},
     "output_type": "execute_result"
    },
    {
     "data": {
      "image/png": "[encoded data removed]",
      "text/plain": [
       "<Figure size 640x480 with 1 Axes>"
      ]
     },
     "metadata": {},
     "output_type": "display_data"
    }
   ],
   "source": [
    "# Code sample that can be used to visualize the difference between the ground truth and the prediction\n",
    "import matplotlib.pyplot as plt\n",
    "num_samples_to_plot = 50\n",
    "plt.plot(Y[0:num_samples_to_plot], 'ro', label='y')\n",
    "yw = [h(w,x) for x in X]\n",
    "plt.plot(yw[0:num_samples_to_plot], 'bx', label='$\\hat{y}$')\n",
    "plt.legend()\n",
    "plt.xlabel(\"Examples\")\n",
    "plt.ylabel(\"f(examples)\")\n",
    "\n"
   ]
  },
  {
   "cell_type": "markdown",
   "metadata": {},
   "source": [
    "\n",
    "\n",
    "\n",
    "\n",
    "# Going further\n",
    "\n",
    "The following are extensions of the work previously done. If attempting them **do not modify** the code you produced above so that it can be evaluated.\n",
    "\n",
    "### Improvements to gradient descent\n",
    "\n",
    "Consider improving the gradient descent with:\n",
    "\n",
    " - Stochastic Gradient Descent (SGD), which means selecting a subset of the examples for training\n",
    " - Detection of convergence to halt the algorithm before the maximum number of iterations\n",
    "\n",
    "\n",
    "### Data normalization\n",
    "\n",
    "Different input features can have different units, and very different ranges.\n",
    "Within the perceptron computation, these values will be summed together.\n",
    "While gradient descent is normally able to deal with this (by adapting the weights of the perceptron for each input feature), standardizing the input features usually eases the perceptron training, and can sometimes improve accuracy.\n",
    "\n",
    "\n",
    "\n",
    "\n",
    "```python\n",
    "from sklearn.preprocessing import StandardScaler\n",
    "sc = StandardScaler(copy=True) \n",
    "X_normalized = sc.fit_transform(X)\n",
    "```\n",
    "\n",
    "Try applying a standard normalization to the input features (make sure that you keep a feature column that is always equal to 1). Is the convergence faster ? Try to quantify this speed-up. What about accuracy ?"
   ]
  },
  {
   "cell_type": "markdown",
   "metadata": {},
   "source": [
    "## Conclusion\n",
    "We have managed to develop and train our perceptron to fit linear regression models to the hydrodynamic performance curves from the dataset. We have observed the results of the fitting of the model with different learning speeds and number of iterations, and how this changed the outcome of the predictions of our perceptron.\n"
   ]
  }
 ],
 "metadata": {
  "kernelspec": {
   "display_name": "Python 3 (ipykernel)",
   "language": "python",
   "name": "python3"
  },
  "language_info": {
   "codemirror_mode": {
    "name": "ipython",
    "version": 3
   },
   "file_extension": ".py",
   "mimetype": "text/x-python",
   "name": "python",
   "nbconvert_exporter": "python",
   "pygments_lexer": "ipython3",
   "version": "3.9.12"
  }
 },
 "nbformat": 4,
 "nbformat_minor": 4
}
